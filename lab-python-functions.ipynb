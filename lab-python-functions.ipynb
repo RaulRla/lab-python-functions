{
 "cells": [
  {
   "cell_type": "markdown",
   "id": "25d7736c-ba17-4aff-b6bb-66eba20fbf4e",
   "metadata": {},
   "source": [
    "# Lab | Functions"
   ]
  },
  {
   "cell_type": "markdown",
   "id": "0c581062-8967-4d93-b06e-62833222f930",
   "metadata": {
    "tags": []
   },
   "source": [
    "## Exercise: Managing Customer Orders with Functions\n",
    "\n",
    "In the previous exercise, you improved the code for managing customer orders by using loops and flow control. Now, let's take it a step further and refactor the code by introducing functions.\n",
    "\n",
    "Follow the steps below to complete the exercise:\n",
    "\n",
    "1. Define a function named `initialize_inventory` that takes `products` as a parameter. Inside the function, implement the code for initializing the inventory dictionary using a loop and user input.\n",
    "\n",
    "2. Define a function named `get_customer_orders` that takes no parameters. Inside the function, implement the code for prompting the user to enter the product names using a loop. The function should return the `customer_orders` set.\n",
    "\n",
    "3. Define a function named `update_inventory` that takes `customer_orders` and `inventory` as parameters. Inside the function, implement the code for updating the inventory dictionary based on the customer orders.\n",
    "\n",
    "4. Define a function named `calculate_order_statistics` that takes `customer_orders` and `products` as parameters. Inside the function, implement the code for calculating the order statistics (total products ordered, and percentage of unique products ordered). The function should return these values.\n",
    "\n",
    "5. Define a function named `print_order_statistics` that takes `order_statistics` as a parameter. Inside the function, implement the code for printing the order statistics.\n",
    "\n",
    "6. Define a function named `print_updated_inventory` that takes `inventory` as a parameter. Inside the function, implement the code for printing the updated inventory.\n",
    "\n",
    "7. Call the functions in the appropriate sequence to execute the program and manage customer orders.\n",
    "\n",
    "Hints for functions:\n",
    "\n",
    "- Consider the input parameters required for each function and their return values.\n",
    "- Utilize function parameters and return values to transfer data between functions.\n",
    "- Test your functions individually to ensure they work correctly.\n",
    "\n",
    "\n"
   ]
  },
  {
   "cell_type": "code",
   "execution_count": 125,
   "id": "22f0a94f",
   "metadata": {},
   "outputs": [
    {
     "name": "stdout",
     "output_type": "stream",
     "text": [
      "{'t-shirt': 10, 'book': 20, 'mug': 30, 'keychain': 15}\n"
     ]
    }
   ],
   "source": [
    "#1. Define a function named `initialize_inventory` that takes `products` as a parameter.Inside the function,\n",
    "# implement the code for initializing the inventory dictionary using a loop and user input.\n",
    "inventory = {}\n",
    "products = [\"t-shirt\", \"mug\", \"hat\", \"book\", \"keychain\"]\n",
    "def initialize_inventory(products):\n",
    "    while True:\n",
    "        infinity_loop = input(\"Want to add other item? (yes/no): \")\n",
    "        if infinity_loop == \"no\":\n",
    "            return (inventory)\n",
    "        else:\n",
    "            products = input(\"Products: \")\n",
    "            amount = int(input(\"Amount: \"))\n",
    "        inventory[products] = amount\n",
    "\n"
   ]
  },
  {
   "cell_type": "code",
   "execution_count": 127,
   "id": "2530419d",
   "metadata": {},
   "outputs": [
    {
     "name": "stdout",
     "output_type": "stream",
     "text": [
      "Customer Orders: {'t-shirt': 1, 'mug': 1, 'book': 1}\n"
     ]
    }
   ],
   "source": [
    "#2. Define a function named `get_customer_orders` that takes no parameters. \n",
    "#Inside the function, implement the code for prompting the user to enter the product names using a loop. \n",
    "# The function should return the `customer_orders` set.\n",
    "\n",
    "def get_customer_orders():\n",
    "    orders = {} \n",
    "    while True:\n",
    "        products = input(\"Add and item or write NO to finish: \" )\n",
    "        if products.lower() == \"no\":\n",
    "            return orders\n",
    "        elif products: \n",
    "           orders[products] = int(input(\"Amount: \"))\n",
    "        else:\n",
    "            return orders\n"
   ]
  },
  {
   "cell_type": "code",
   "execution_count": 133,
   "id": "0fe64197",
   "metadata": {},
   "outputs": [
    {
     "name": "stdout",
     "output_type": "stream",
     "text": [
      "Updated Inventory: {'t-shirt': 9, 'book': 19, 'mug': 29, 'keychain': 15}\n"
     ]
    }
   ],
   "source": [
    "#3. Define a function named `update_inventory` that takes `customer_orders` and `inventory` as parameters.\n",
    "#Inside the function, implement the code for updating the inventory dictionary based on the customer orders.\n",
    "def update_inventory(customer_orders, inventory):\n",
    "    \n",
    "    updated_inventory = {}  \n",
    "    for product in inventory:\n",
    "        if product in customer_orders:\n",
    "            updated_inventory[product] = inventory[product] - customer_orders[product]\n",
    "        else:\n",
    "            updated_inventory[product] = inventory[product]\n",
    "\n",
    "    return updated_inventory\n"
   ]
  },
  {
   "cell_type": "code",
   "execution_count": 148,
   "id": "37257dfa",
   "metadata": {},
   "outputs": [
    {
     "name": "stdout",
     "output_type": "stream",
     "text": [
      "Statistics are  (3, 4.0)\n"
     ]
    }
   ],
   "source": [
    "#4. Define a function named `calculate_order_statistics` that takes `customer_orders` and `products` as parameters.\n",
    "# Inside the function, implement the code for calculating the order statistics (total products ordered, and percentage of unique products ordered).\n",
    "# The function should return these values.\n",
    "def calculate_order_statistics(customer_orders,inventory):\n",
    "    total_orders = sum(customer_orders.values())\n",
    "    total_inventory = sum(inventory.values())\n",
    "    percent = (total_orders/total_inventory) * 100\n",
    "    return (total_orders,percent)"
   ]
  },
  {
   "cell_type": "code",
   "execution_count": 154,
   "id": "06eb2849",
   "metadata": {},
   "outputs": [
    {
     "name": "stdout",
     "output_type": "stream",
     "text": [
      "The total of orders are 3\n",
      "Percentage is 4.00%\n"
     ]
    }
   ],
   "source": [
    "# 5. Define a function named `print_order_statistics` that takes `order_statistics` as a parameter.\n",
    "# Inside the function, implement the code for printing the order statistics.\n",
    "def print_order_statistics(order_statistics):\n",
    "    total_orders, percent = order_statistics  \n",
    "    print(f\"The total of orders are {total_orders}\")\n",
    "    print(f\"Percentage is {percent:.2f}%\")\n"
   ]
  },
  {
   "cell_type": "code",
   "execution_count": 156,
   "id": "51025d8d",
   "metadata": {},
   "outputs": [
    {
     "name": "stdout",
     "output_type": "stream",
     "text": [
      "Updated Inventory: {'t-shirt': 9, 'book': 19, 'mug': 29, 'keychain': 15}\n"
     ]
    }
   ],
   "source": [
    "# 6. Define a function named `print_updated_inventory` that takes `inventory` as a parameter.\n",
    "# Inside the function, implement the code for printing the updated inventory.\n",
    "def print_updated_inventory(inventory):\n",
    "    print(\"Updated Inventory:\", updated_inventory)\n"
   ]
  },
  {
   "cell_type": "code",
   "execution_count": 157,
   "id": "0bcd8d8d",
   "metadata": {},
   "outputs": [
    {
     "name": "stdout",
     "output_type": "stream",
     "text": [
      "The total of orders are 4\n",
      "Percentage is 8.00%\n",
      "Updated Inventory: {'t-shirt': 9, 'book': 9, 'mug': 9, 'keychain': 10, 'hat': 9}\n"
     ]
    }
   ],
   "source": [
    "#7. Call the functions in the appropriate sequence to execute the program and manage customer orders.\n",
    "initialize_inventory(products)\n",
    "customer_orders = (get_customer_orders())\n",
    "updated_inventory = update_inventory(customer_orders, inventory)\n",
    "statistics = (calculate_order_statistics(customer_orders,inventory))\n",
    "print_order_statistics(statistics)\n",
    "print_updated_inventory(inventory)"
   ]
  }
 ],
 "metadata": {
  "kernelspec": {
   "display_name": "Python 3 (ipykernel)",
   "language": "python",
   "name": "python3"
  },
  "language_info": {
   "codemirror_mode": {
    "name": "ipython",
    "version": 3
   },
   "file_extension": ".py",
   "mimetype": "text/x-python",
   "name": "python",
   "nbconvert_exporter": "python",
   "pygments_lexer": "ipython3",
   "version": "3.10.11"
  }
 },
 "nbformat": 4,
 "nbformat_minor": 5
}
